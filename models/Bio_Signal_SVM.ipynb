{
 "cells": [
  {
   "cell_type": "markdown",
   "id": "d2378c95",
   "metadata": {},
   "source": [
    "# Biosignal analysis using Support Vector Machine algorithm\n",
    "\n"
   ]
  },
  {
   "cell_type": "code",
   "execution_count": 1,
   "id": "50cd96df",
   "metadata": {},
   "outputs": [],
   "source": [
    "import pandas as pd\n",
    "import numpy as np\n",
    "import matplotlib.pyplot as plt\n",
    "\n",
    "import datetime\n",
    "from datetime import timedelta\n",
    "\n",
    "from mpl_toolkits.mplot3d import Axes3D\n",
    "\n",
    "import biosppy\n",
    "\n",
    "import seaborn as sns\n",
    "\n",
    "import os\n",
    "\n",
    "import sklearn.linear_model\n",
    "from sklearn.preprocessing import minmax_scale\n",
    "from sklearn.model_selection import train_test_split\n",
    "from sklearn.metrics import accuracy_score, classification_report\n",
    "from sklearn.metrics import log_loss\n",
    "from sklearn.metrics import confusion_matrix, ConfusionMatrixDisplay\n",
    "from sklearn import svm\n",
    "\n",
    "\n",
    "from collections import defaultdict"
   ]
  },
  {
   "cell_type": "code",
   "execution_count": 2,
   "id": "95672e63",
   "metadata": {},
   "outputs": [],
   "source": [
    "train_df = pd.read_csv(\"train_data_features_clean.csv\")\n",
    "test_df = pd.read_csv(\"test_data_features_clean.csv\")"
   ]
  },
  {
   "cell_type": "code",
   "execution_count": 3,
   "id": "9d5f7039",
   "metadata": {},
   "outputs": [
    {
     "name": "stdout",
     "output_type": "stream",
     "text": [
      "(2068, 366)\n",
      "(518, 366)\n"
     ]
    }
   ],
   "source": [
    "print(train_df.shape)\n",
    "print(test_df.shape)"
   ]
  },
  {
   "cell_type": "code",
   "execution_count": 4,
   "id": "964133d6",
   "metadata": {},
   "outputs": [
    {
     "data": {
      "text/html": [
       "<div>\n",
       "<style scoped>\n",
       "    .dataframe tbody tr th:only-of-type {\n",
       "        vertical-align: middle;\n",
       "    }\n",
       "\n",
       "    .dataframe tbody tr th {\n",
       "        vertical-align: top;\n",
       "    }\n",
       "\n",
       "    .dataframe thead th {\n",
       "        text-align: right;\n",
       "    }\n",
       "</style>\n",
       "<table border=\"1\" class=\"dataframe\">\n",
       "  <thead>\n",
       "    <tr style=\"text-align: right;\">\n",
       "      <th></th>\n",
       "      <th>Unnamed: 0.2</th>\n",
       "      <th>Unnamed: 0.1</th>\n",
       "      <th>Unnamed: 0</th>\n",
       "      <th>Participant</th>\n",
       "      <th>IRange_start</th>\n",
       "      <th>IRange_end</th>\n",
       "      <th>Activity</th>\n",
       "      <th>emg_std</th>\n",
       "      <th>emg_skew</th>\n",
       "      <th>emg_kurtosis</th>\n",
       "      <th>...</th>\n",
       "      <th>accWz_pcount</th>\n",
       "      <th>accWz_abmean</th>\n",
       "      <th>accWz_npeaks</th>\n",
       "      <th>accWz_skew</th>\n",
       "      <th>accWz_kurtosis</th>\n",
       "      <th>accWz_energy</th>\n",
       "      <th>accWz_momentum</th>\n",
       "      <th>accWx_accWy_corr</th>\n",
       "      <th>accWx_accWz_corr</th>\n",
       "      <th>accWy_accWz_corr</th>\n",
       "    </tr>\n",
       "  </thead>\n",
       "  <tbody>\n",
       "    <tr>\n",
       "      <th>0</th>\n",
       "      <td>2189</td>\n",
       "      <td>2196</td>\n",
       "      <td>3309</td>\n",
       "      <td>LDM5</td>\n",
       "      <td>249305</td>\n",
       "      <td>254305</td>\n",
       "      <td>greetings</td>\n",
       "      <td>0.219113</td>\n",
       "      <td>0.562581</td>\n",
       "      <td>9.174356</td>\n",
       "      <td>...</td>\n",
       "      <td>4369.0</td>\n",
       "      <td>2899.0</td>\n",
       "      <td>112.0</td>\n",
       "      <td>-0.691043</td>\n",
       "      <td>6.420650</td>\n",
       "      <td>12.833290</td>\n",
       "      <td>0.186005</td>\n",
       "      <td>-0.073372</td>\n",
       "      <td>-0.658326</td>\n",
       "      <td>0.228056</td>\n",
       "    </tr>\n",
       "    <tr>\n",
       "      <th>1</th>\n",
       "      <td>76</td>\n",
       "      <td>76</td>\n",
       "      <td>81</td>\n",
       "      <td>03FH</td>\n",
       "      <td>589205</td>\n",
       "      <td>594205</td>\n",
       "      <td>run</td>\n",
       "      <td>0.252030</td>\n",
       "      <td>-0.118221</td>\n",
       "      <td>8.460107</td>\n",
       "      <td>...</td>\n",
       "      <td>2375.0</td>\n",
       "      <td>3090.0</td>\n",
       "      <td>78.0</td>\n",
       "      <td>-1.022943</td>\n",
       "      <td>0.606826</td>\n",
       "      <td>13.776845</td>\n",
       "      <td>0.247760</td>\n",
       "      <td>-0.448892</td>\n",
       "      <td>0.826102</td>\n",
       "      <td>-0.332862</td>\n",
       "    </tr>\n",
       "    <tr>\n",
       "      <th>2</th>\n",
       "      <td>2149</td>\n",
       "      <td>2156</td>\n",
       "      <td>3203</td>\n",
       "      <td>LAS2</td>\n",
       "      <td>1199500</td>\n",
       "      <td>1204500</td>\n",
       "      <td>run</td>\n",
       "      <td>0.459301</td>\n",
       "      <td>0.905125</td>\n",
       "      <td>7.857818</td>\n",
       "      <td>...</td>\n",
       "      <td>2232.0</td>\n",
       "      <td>2883.0</td>\n",
       "      <td>95.0</td>\n",
       "      <td>0.408045</td>\n",
       "      <td>5.166440</td>\n",
       "      <td>8.235302</td>\n",
       "      <td>0.160346</td>\n",
       "      <td>-0.221970</td>\n",
       "      <td>0.300573</td>\n",
       "      <td>-0.012344</td>\n",
       "    </tr>\n",
       "    <tr>\n",
       "      <th>3</th>\n",
       "      <td>2393</td>\n",
       "      <td>2400</td>\n",
       "      <td>3523</td>\n",
       "      <td>LDM5</td>\n",
       "      <td>1493455</td>\n",
       "      <td>1498455</td>\n",
       "      <td>run</td>\n",
       "      <td>0.153409</td>\n",
       "      <td>0.853207</td>\n",
       "      <td>7.885383</td>\n",
       "      <td>...</td>\n",
       "      <td>3798.0</td>\n",
       "      <td>2277.0</td>\n",
       "      <td>98.0</td>\n",
       "      <td>1.426853</td>\n",
       "      <td>5.526387</td>\n",
       "      <td>6.583364</td>\n",
       "      <td>0.096070</td>\n",
       "      <td>-0.336553</td>\n",
       "      <td>-0.315849</td>\n",
       "      <td>0.052206</td>\n",
       "    </tr>\n",
       "    <tr>\n",
       "      <th>4</th>\n",
       "      <td>1650</td>\n",
       "      <td>1650</td>\n",
       "      <td>2574</td>\n",
       "      <td>K2Q2</td>\n",
       "      <td>849160</td>\n",
       "      <td>854160</td>\n",
       "      <td>run</td>\n",
       "      <td>0.711148</td>\n",
       "      <td>0.281505</td>\n",
       "      <td>1.006409</td>\n",
       "      <td>...</td>\n",
       "      <td>817.0</td>\n",
       "      <td>3039.0</td>\n",
       "      <td>91.0</td>\n",
       "      <td>-0.869657</td>\n",
       "      <td>0.104454</td>\n",
       "      <td>20.832428</td>\n",
       "      <td>0.220546</td>\n",
       "      <td>0.061874</td>\n",
       "      <td>0.822796</td>\n",
       "      <td>0.236060</td>\n",
       "    </tr>\n",
       "  </tbody>\n",
       "</table>\n",
       "<p>5 rows × 366 columns</p>\n",
       "</div>"
      ],
      "text/plain": [
       "   Unnamed: 0.2  Unnamed: 0.1  Unnamed: 0 Participant  IRange_start  \\\n",
       "0          2189          2196        3309        LDM5        249305   \n",
       "1            76            76          81        03FH        589205   \n",
       "2          2149          2156        3203        LAS2       1199500   \n",
       "3          2393          2400        3523        LDM5       1493455   \n",
       "4          1650          1650        2574        K2Q2        849160   \n",
       "\n",
       "   IRange_end   Activity   emg_std  emg_skew  emg_kurtosis  ...  accWz_pcount  \\\n",
       "0      254305  greetings  0.219113  0.562581      9.174356  ...        4369.0   \n",
       "1      594205        run  0.252030 -0.118221      8.460107  ...        2375.0   \n",
       "2     1204500        run  0.459301  0.905125      7.857818  ...        2232.0   \n",
       "3     1498455        run  0.153409  0.853207      7.885383  ...        3798.0   \n",
       "4      854160        run  0.711148  0.281505      1.006409  ...         817.0   \n",
       "\n",
       "   accWz_abmean  accWz_npeaks  accWz_skew  accWz_kurtosis  accWz_energy  \\\n",
       "0        2899.0         112.0   -0.691043        6.420650     12.833290   \n",
       "1        3090.0          78.0   -1.022943        0.606826     13.776845   \n",
       "2        2883.0          95.0    0.408045        5.166440      8.235302   \n",
       "3        2277.0          98.0    1.426853        5.526387      6.583364   \n",
       "4        3039.0          91.0   -0.869657        0.104454     20.832428   \n",
       "\n",
       "   accWz_momentum  accWx_accWy_corr  accWx_accWz_corr  accWy_accWz_corr  \n",
       "0        0.186005         -0.073372         -0.658326          0.228056  \n",
       "1        0.247760         -0.448892          0.826102         -0.332862  \n",
       "2        0.160346         -0.221970          0.300573         -0.012344  \n",
       "3        0.096070         -0.336553         -0.315849          0.052206  \n",
       "4        0.220546          0.061874          0.822796          0.236060  \n",
       "\n",
       "[5 rows x 366 columns]"
      ]
     },
     "execution_count": 4,
     "metadata": {},
     "output_type": "execute_result"
    }
   ],
   "source": [
    "train_df.head()"
   ]
  },
  {
   "cell_type": "code",
   "execution_count": 5,
   "id": "d078e054",
   "metadata": {},
   "outputs": [
    {
     "data": {
      "text/plain": [
       "run            1427\n",
       "walk_before     206\n",
       "walk_after      176\n",
       "gesticulate     102\n",
       "lift             63\n",
       "greetings        42\n",
       "baseline         42\n",
       "jumps            10\n",
       "Name: Activity, dtype: int64"
      ]
     },
     "execution_count": 5,
     "metadata": {},
     "output_type": "execute_result"
    }
   ],
   "source": [
    "Activity_train_count = train_df['Activity'].value_counts()\n",
    "Activity_train_count"
   ]
  },
  {
   "cell_type": "code",
   "execution_count": 6,
   "id": "e2d85b63",
   "metadata": {},
   "outputs": [
    {
     "data": {
      "text/plain": [
       "run            357\n",
       "walk_before     52\n",
       "walk_after      44\n",
       "gesticulate     25\n",
       "lift            16\n",
       "baseline        11\n",
       "greetings       11\n",
       "jumps            2\n",
       "Name: Activity, dtype: int64"
      ]
     },
     "execution_count": 6,
     "metadata": {},
     "output_type": "execute_result"
    }
   ],
   "source": [
    "Activity_test_count = test_df['Activity'].value_counts()\n",
    "Activity_test_count"
   ]
  },
  {
   "cell_type": "markdown",
   "id": "218900b3",
   "metadata": {},
   "source": [
    "# Drop columns till activity from the dataset for algorithm"
   ]
  },
  {
   "cell_type": "code",
   "execution_count": 7,
   "id": "531c7038",
   "metadata": {},
   "outputs": [
    {
     "name": "stdout",
     "output_type": "stream",
     "text": [
      "The shape of x_train is: (2068, 359)\n",
      "The shape of y_train is: (2068,)\n",
      "The shape of x_test is: (518, 359)\n",
      "The shape of y_test is: (518,)\n"
     ]
    }
   ],
   "source": [
    "x_train = train_df.iloc[:, 7:]\n",
    "y_train = train_df.iloc[:, 6]\n",
    "\n",
    "x_test = test_df.iloc[:, 7:]\n",
    "y_test = test_df.iloc[:, 6]\n",
    "\n",
    "print(\"The shape of x_train is:\", x_train.shape)\n",
    "print(\"The shape of y_train is:\", y_train.shape)\n",
    "\n",
    "print(\"The shape of x_test is:\", x_test.shape)\n",
    "print(\"The shape of y_test is:\", y_test.shape)"
   ]
  },
  {
   "cell_type": "code",
   "execution_count": 8,
   "id": "ad82fdb1",
   "metadata": {},
   "outputs": [
    {
     "name": "stdout",
     "output_type": "stream",
     "text": [
      "              precision    recall  f1-score   support\n",
      "\n",
      "    baseline       1.00      0.45      0.62        11\n",
      " gesticulate       0.80      0.96      0.87        25\n",
      "   greetings       1.00      0.82      0.90        11\n",
      "       jumps       0.00      0.00      0.00         2\n",
      "        lift       0.89      1.00      0.94        16\n",
      "         run       0.99      0.98      0.98       357\n",
      "  walk_after       0.89      0.95      0.92        44\n",
      " walk_before       0.91      0.92      0.91        52\n",
      "\n",
      "    accuracy                           0.96       518\n",
      "   macro avg       0.81      0.76      0.77       518\n",
      "weighted avg       0.95      0.96      0.95       518\n",
      "\n",
      "Accuracy is:  0.9555984555984556\n"
     ]
    },
    {
     "name": "stderr",
     "output_type": "stream",
     "text": [
      "C:\\ProgramData\\anaconda3\\Lib\\site-packages\\sklearn\\metrics\\_classification.py:1344: UndefinedMetricWarning: Precision and F-score are ill-defined and being set to 0.0 in labels with no predicted samples. Use `zero_division` parameter to control this behavior.\n",
      "  _warn_prf(average, modifier, msg_start, len(result))\n",
      "C:\\ProgramData\\anaconda3\\Lib\\site-packages\\sklearn\\metrics\\_classification.py:1344: UndefinedMetricWarning: Precision and F-score are ill-defined and being set to 0.0 in labels with no predicted samples. Use `zero_division` parameter to control this behavior.\n",
      "  _warn_prf(average, modifier, msg_start, len(result))\n",
      "C:\\ProgramData\\anaconda3\\Lib\\site-packages\\sklearn\\metrics\\_classification.py:1344: UndefinedMetricWarning: Precision and F-score are ill-defined and being set to 0.0 in labels with no predicted samples. Use `zero_division` parameter to control this behavior.\n",
      "  _warn_prf(average, modifier, msg_start, len(result))\n"
     ]
    }
   ],
   "source": [
    "from sklearn.preprocessing import StandardScaler\n",
    "from sklearn.pipeline import Pipeline\n",
    "from sklearn.svm import SVC\n",
    "\n",
    "svm_class = svm.SVC(gamma = 0.001, kernel = 'rbf', probability=True)\n",
    "\n",
    "pipe = Pipeline([('scaler', StandardScaler()), ('svm', svm_class)])\n",
    "\n",
    "pipe.fit(x_train, y_train)\n",
    "\n",
    "y_pred = pipe.predict(x_test)\n",
    "\n",
    "print(classification_report(y_test, y_pred))\n",
    "\n",
    "accuracy = accuracy_score(y_test, y_pred)\n",
    "    \n",
    "print(\"Accuracy is: \", accuracy) "
   ]
  },
  {
   "cell_type": "code",
   "execution_count": 9,
   "id": "832378b5",
   "metadata": {},
   "outputs": [
    {
     "data": {
      "image/png": "[encoded data removed]",
      "text/plain": [
       "<Figure size 640x480 with 2 Axes>"
      ]
     },
     "metadata": {},
     "output_type": "display_data"
    }
   ],
   "source": [
    "from sklearn.metrics import confusion_matrix\n",
    "\n",
    "\n",
    "cm = confusion_matrix(y_test, y_pred, normalize = 'true')\n",
    "sns.heatmap(cm, annot=True, xticklabels = pipe.classes_, yticklabels = pipe.classes_, linewidths=0.1,  cmap = 'YlGnBu')\n",
    "\n",
    "plt.title(\"Confusion matrix\", fontsize = 10)\n",
    "plt.savefig(\"Confusion_Matrix_SVM\", bbox_inches='tight')\n",
    "plt.show()"
   ]
  },
  {
   "cell_type": "code",
   "execution_count": 10,
   "id": "1fff7a8c",
   "metadata": {},
   "outputs": [
    {
     "name": "stdout",
     "output_type": "stream",
     "text": [
      "Log loss: 0.1165252146293399\n"
     ]
    }
   ],
   "source": [
    "y_prob = pipe.predict_proba(x_test)\n",
    "\n",
    "loss = log_loss(y_test, y_prob)\n",
    "\n",
    "print(\"Log loss:\", loss)"
   ]
  },
  {
   "cell_type": "code",
   "execution_count": 11,
   "id": "0a83e2ea",
   "metadata": {},
   "outputs": [
    {
     "name": "stdout",
     "output_type": "stream",
     "text": [
      "F1 score is: 0.952321492704329\n"
     ]
    }
   ],
   "source": [
    "from sklearn.metrics import f1_score\n",
    "\n",
    "f1 = f1_score(y_test, y_pred, average='weighted')\n",
    "print(\"F1 score is:\", f1)\n"
   ]
  },
  {
   "cell_type": "code",
   "execution_count": 12,
   "id": "705f6bd5",
   "metadata": {},
   "outputs": [
    {
     "name": "stdout",
     "output_type": "stream",
     "text": [
      "MCC score is: 0.912172567930531\n"
     ]
    }
   ],
   "source": [
    "from sklearn.metrics import matthews_corrcoef\n",
    "\n",
    "MCC_score = matthews_corrcoef(y_test, y_pred)\n",
    "print(\"MCC score is:\", MCC_score)"
   ]
  },
  {
   "cell_type": "markdown",
   "id": "e74ae45d",
   "metadata": {},
   "source": [
    "#Document created by Dushyanth Sirivolu for final project for Erdos Boot Camp Spring 2024  "
   ]
  }
 ],
 "metadata": {
  "kernelspec": {
   "display_name": "Python 3 (ipykernel)",
   "language": "python",
   "name": "python3"
  },
  "language_info": {
   "codemirror_mode": {
    "name": "ipython",
    "version": 3
   },
   "file_extension": ".py",
   "mimetype": "text/x-python",
   "name": "python",
   "nbconvert_exporter": "python",
   "pygments_lexer": "ipython3",
   "version": "3.11.3"
  }
 },
 "nbformat": 4,
 "nbformat_minor": 5
}
